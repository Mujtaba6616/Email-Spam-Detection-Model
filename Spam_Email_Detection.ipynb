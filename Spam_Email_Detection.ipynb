{
  "nbformat": 4,
  "nbformat_minor": 0,
  "metadata": {
    "colab": {
      "provenance": [],
      "gpuType": "T4"
    },
    "kernelspec": {
      "name": "python3",
      "display_name": "Python 3"
    },
    "language_info": {
      "name": "python"
    },
    "accelerator": "GPU"
  },
  "cells": [
    {
      "cell_type": "markdown",
      "source": [
        "# **DATA LOADING & PREPARATION**"
      ],
      "metadata": {
        "id": "vmuGjNte2SoL"
      }
    },
    {
      "cell_type": "code",
      "source": [
        "import kagglehub\n",
        "import pandas as pd\n",
        "import numpy as np\n",
        "import os\n",
        "from sklearn.model_selection import train_test_split\n",
        "from sklearn.feature_extraction.text import TfidfVectorizer\n",
        "from sklearn.naive_bayes import MultinomialNB\n",
        "from sklearn.ensemble import RandomForestClassifier\n",
        "from sklearn.linear_model import LogisticRegression\n",
        "from sklearn.svm import SVC\n",
        "from sklearn.metrics import accuracy_score, classification_report, confusion_matrix\n",
        "import joblib\n",
        "import re\n",
        "import matplotlib.pyplot as plt\n",
        "import seaborn as sns\n",
        "from sklearn.pipeline import Pipeline\n",
        "\n",
        "path = kagglehub.dataset_download(\"jackksoncsie/spam-email-dataset\")\n",
        "print(\"Dataset downloaded successfully!\")\n",
        "\n",
        "csv_file = os.path.join(path, 'emails.csv')\n",
        "df = pd.read_csv(csv_file)\n",
        "\n",
        "print(f\"Loaded {df.shape[0]:,} emails with {df.shape[1]} columns\")\n",
        "print(f\"Dataset size: {df.memory_usage(deep=True).sum() / 1024**2:.1f} MB\")\n",
        "\n",
        "X = df.iloc[:, 0]\n",
        "y = df.iloc[:, -1]\n",
        "\n",
        "if y.dtype == 'object':\n",
        "    y = y.map({'spam': 1, 'ham': 0, 'Spam': 1, 'Ham': 0, 1: 1, 0: 0})\n",
        "\n",
        "spam_count = y.sum()\n",
        "ham_count = len(y) - spam_count\n",
        "print(f\"Spam emails: {spam_count:,} ({spam_count/len(y)*100:.1f}%)\")\n",
        "print(f\"Ham emails: {ham_count:,} ({ham_count/len(y)*100:.1f}%)\")\n",
        "\n",
        "def clean_text(text):\n",
        "    if pd.isna(text):\n",
        "        return \"\"\n",
        "    text = str(text).lower()\n",
        "    text = re.sub(r'http\\S+|www\\S+', '', text)\n",
        "    text = re.sub(r'\\d+', 'number', text)\n",
        "    text = re.sub(r'[^\\w\\s]', ' ', text)\n",
        "    text = ' '.join(text.split())\n",
        "    return text\n",
        "\n",
        "X_clean = X.apply(clean_text)\n",
        "X_clean = X_clean[X_clean.str.len() > 5]\n",
        "y_clean = y[X_clean.index]\n",
        "\n",
        "print(f\"After cleaning: {len(X_clean):,} emails ready for training\")\n",
        "\n",
        "\n",
        "\n"
      ],
      "metadata": {
        "colab": {
          "base_uri": "https://localhost:8080/"
        },
        "id": "GVkxpV1awcxz",
        "outputId": "7bb2978f-f2e4-41f2-cd64-27f587be1b8a"
      },
      "execution_count": 1,
      "outputs": [
        {
          "output_type": "stream",
          "name": "stdout",
          "text": [
            "Downloading from https://www.kaggle.com/api/v1/datasets/download/jackksoncsie/spam-email-dataset?dataset_version_number=1...\n"
          ]
        },
        {
          "output_type": "stream",
          "name": "stderr",
          "text": [
            "100%|██████████| 2.86M/2.86M [00:00<00:00, 173MB/s]"
          ]
        },
        {
          "output_type": "stream",
          "name": "stdout",
          "text": [
            "Extracting files...\n",
            "Dataset downloaded successfully!\n",
            "Loaded 5,728 emails with 2 columns\n",
            "Dataset size: 8.8 MB\n",
            "Spam emails: 1,368 (23.9%)\n",
            "Ham emails: 4,360 (76.1%)\n"
          ]
        },
        {
          "output_type": "stream",
          "name": "stderr",
          "text": [
            "\n"
          ]
        },
        {
          "output_type": "stream",
          "name": "stdout",
          "text": [
            "After cleaning: 5,728 emails ready for training\n"
          ]
        }
      ]
    },
    {
      "cell_type": "markdown",
      "source": [
        "## **Training Models**"
      ],
      "metadata": {
        "id": "TCN1XeIv2gMo"
      }
    },
    {
      "cell_type": "code",
      "source": [
        "X_train, X_test, y_train, y_test = train_test_split(X_clean, y_clean, test_size=0.2, random_state=42, stratify=y_clean)\n",
        "\n",
        "tfidf = TfidfVectorizer(\n",
        "    max_features=8000,\n",
        "    stop_words='english',\n",
        "    ngram_range=(1, 3),\n",
        "    min_df=3,\n",
        "    max_df=0.9,\n",
        "    sublinear_tf=True\n",
        ")\n",
        "\n",
        "X_train_tfidf = tfidf.fit_transform(X_train)\n",
        "X_test_tfidf = tfidf.transform(X_test)\n",
        "\n",
        "models = {\n",
        "    'Naive Bayes': MultinomialNB(alpha=0.1),\n",
        "    'Logistic Regression': LogisticRegression(random_state=42, max_iter=1000, C=2),\n",
        "    'Random Forest': RandomForestClassifier(n_estimators=200, random_state=42, max_depth=25),\n",
        "    'SVM': SVC(random_state=42, probability=True, C=1.5, gamma='scale')\n",
        "}\n",
        "\n",
        "print(\"Training AI models...\")\n",
        "print(\"-\" * 40)\n",
        "\n",
        "results = {}\n",
        "for name, model in models.items():\n",
        "    model.fit(X_train_tfidf, y_train)\n",
        "    predictions = model.predict(X_test_tfidf)\n",
        "    accuracy = accuracy_score(y_test, predictions)\n",
        "    results[name] = accuracy\n",
        "    print(f\"{name:<20} -> {accuracy*100:.1f}% accuracy\")\n",
        "\n",
        "best_name = max(results, key=results.get)\n",
        "best_accuracy = results[best_name]\n",
        "best_model = models[best_name]\n",
        "\n",
        "print(f\"\\nWINNER: {best_name} with {best_accuracy*100:.1f}% accuracy!\")\n",
        "\n",
        "y_pred = best_model.predict(X_test_tfidf)\n"
      ],
      "metadata": {
        "colab": {
          "base_uri": "https://localhost:8080/"
        },
        "id": "WCgqeZ-mz4cr",
        "outputId": "30fccc06-f50e-4017-f523-788dc5e58d27"
      },
      "execution_count": 2,
      "outputs": [
        {
          "output_type": "stream",
          "name": "stdout",
          "text": [
            "Training AI models...\n",
            "----------------------------------------\n",
            "Naive Bayes          -> 98.7% accuracy\n",
            "Logistic Regression  -> 99.0% accuracy\n",
            "Random Forest        -> 96.3% accuracy\n",
            "SVM                  -> 99.1% accuracy\n",
            "\n",
            "WINNER: SVM with 99.1% accuracy!\n"
          ]
        }
      ]
    },
    {
      "cell_type": "markdown",
      "source": [
        "## **Model Analysis**"
      ],
      "metadata": {
        "id": "W6V8c8ky2vqG"
      }
    },
    {
      "cell_type": "code",
      "source": [
        "plt.style.use('dark_background')\n",
        "fig, ((ax1, ax2), (ax3, ax4)) = plt.subplots(2, 2, figsize=(15, 10))\n",
        "fig.suptitle('EMAIL SPAM DETECTION ANALYTICS', fontsize=16, color='white')\n",
        "\n",
        "# Model comparison\n",
        "ax1.bar(results.keys(), [acc*100 for acc in results.values()],\n",
        "        color=['#ff6b6b', '#4ecdc4', '#45b7d1', '#96ceb4'])\n",
        "ax1.set_title('Model Performance Comparison', color='white')\n",
        "ax1.set_ylabel('Accuracy (%)', color='white')\n",
        "ax1.tick_params(colors='white')\n",
        "for i, (name, acc) in enumerate(results.items()):\n",
        "    ax1.text(i, acc*100 + 1, f'{acc*100:.1f}%', ha='center', color='white')\n",
        "\n",
        "# Class distribution\n",
        "classes = ['Ham', 'Spam']\n",
        "counts = [ham_count, spam_count]\n",
        "colors = ['#4ecdc4', '#ff6b6b']\n",
        "ax2.pie(counts, labels=classes, colors=colors, autopct='%1.1f%%', startangle=90)\n",
        "ax2.set_title('Dataset Distribution', color='white')\n",
        "\n",
        "# Confusion matrix\n",
        "cm = confusion_matrix(y_test, y_pred)\n",
        "sns.heatmap(cm, annot=True, fmt='d', cmap='Blues', ax=ax3,\n",
        "            xticklabels=['Ham', 'Spam'], yticklabels=['Ham', 'Spam'])\n",
        "ax3.set_title('Confusion Matrix', color='white')\n",
        "ax3.set_xlabel('Predicted', color='white')\n",
        "ax3.set_ylabel('Actual', color='white')\n",
        "\n",
        "# Feature importance\n",
        "if hasattr(best_model, 'feature_importances_'):\n",
        "    feature_names = tfidf.get_feature_names_out()\n",
        "    importances = best_model.feature_importances_\n",
        "    top_indices = np.argsort(importances)[-10:]\n",
        "    top_features = [feature_names[i] for i in top_indices]\n",
        "    top_values = importances[top_indices]\n",
        "\n",
        "    ax4.barh(range(len(top_features)), top_values, color='#ffa726')\n",
        "    ax4.set_yticks(range(len(top_features)))\n",
        "    ax4.set_yticklabels(top_features, color='white')\n",
        "    ax4.set_title('Top Spam Indicators', color='white')\n",
        "    ax4.tick_params(colors='white')\n",
        "\n",
        "plt.tight_layout()\n",
        "plt.show()\n",
        "\n",
        "print(\"\\nPERFORMANCE METRICS\")\n",
        "print(\"=\" * 40)\n",
        "print(classification_report(y_test, y_pred, target_names=['Ham', 'Spam']))\n",
        "\n",
        "tn, fp, fn, tp = cm.ravel()\n",
        "print(f\"Correctly identified ham: {tn:,}\")\n",
        "print(f\"Ham marked as spam: {fp:,}\")\n",
        "print(f\"Spam missed: {fn:,}\")\n",
        "print(f\"Correctly caught spam: {tp:,}\")\n"
      ],
      "metadata": {
        "colab": {
          "base_uri": "https://localhost:8080/",
          "height": 1000
        },
        "id": "h5cNXC7A0Tiv",
        "outputId": "ee200f2b-a16d-4a75-9fa0-9bdbeab4086e"
      },
      "execution_count": 3,
      "outputs": [
        {
          "output_type": "display_data",
          "data": {
            "text/plain": [
              "<Figure size 1500x1000 with 5 Axes>"
            ],
            "image/png": "[encoded data removed]"
          },
          "metadata": {}
        },
        {
          "output_type": "stream",
          "name": "stdout",
          "text": [
            "\n",
            "PERFORMANCE METRICS\n",
            "========================================\n",
            "              precision    recall  f1-score   support\n",
            "\n",
            "         Ham       0.99      1.00      0.99       872\n",
            "        Spam       0.99      0.98      0.98       274\n",
            "\n",
            "    accuracy                           0.99      1146\n",
            "   macro avg       0.99      0.99      0.99      1146\n",
            "weighted avg       0.99      0.99      0.99      1146\n",
            "\n",
            "Correctly identified ham: 868\n",
            "Ham marked as spam: 4\n",
            "Spam missed: 6\n",
            "Correctly caught spam: 268\n"
          ]
        }
      ]
    },
    {
      "cell_type": "markdown",
      "source": [
        "## **TESTING AND USING MODEL**"
      ],
      "metadata": {
        "id": "UgaJM86B25u9"
      }
    },
    {
      "cell_type": "code",
      "source": [
        "from IPython.display import display, HTML\n",
        "import joblib\n",
        "from sklearn.pipeline import Pipeline\n",
        "\n",
        "# Load the best model and the TF-IDF vectorizer\n",
        "# Assuming tfidf was fitted in a previous cell and is available in the environment\n",
        "detector = joblib.load('email_spam_detector.pkl')\n",
        "\n",
        "style = \"\"\"\n",
        "<style>\n",
        ".spam-detector {\n",
        "    background: #2c3e50;\n",
        "    border-radius: 12px;\n",
        "    padding: 20px;\n",
        "    color: white;\n",
        "    font-family: Arial, sans-serif;\n",
        "    margin: 15px 0;\n",
        "    box-shadow: 0 4px 12px rgba(0,0,0,0.3);\n",
        "}\n",
        "\n",
        ".title {\n",
        "    text-align: center;\n",
        "    font-size: 24px;\n",
        "    font-weight: bold;\n",
        "    margin-bottom: 5px;\n",
        "}\n",
        "\n",
        ".stats {\n",
        "    text-align: center;\n",
        "    font-size: 14px;\n",
        "    color: #bdc3c7;\n",
        "    margin-bottom: 15px;\n",
        "}\n",
        "\n",
        ".result-spam {\n",
        "    background: #e74c3c;\n",
        "    padding: 12px;\n",
        "    border-radius: 8px;\n",
        "    text-align: center;\n",
        "    font-weight: bold;\n",
        "    margin: 10px 0;\n",
        "}\n",
        "\n",
        ".result-safe {\n",
        "    background: #27ae60;\n",
        "    padding: 12px;\n",
        "    border-radius: 8px;\n",
        "    text-align: center;\n",
        "    font-weight: bold;\n",
        "    margin: 10px 0;\n",
        "}\n",
        "\n",
        ".input-area {\n",
        "    margin: 10px 0;\n",
        "}\n",
        "</style>\n",
        "\"\"\"\n",
        "\n",
        "display(HTML(style))\n",
        "\n",
        "def analyze_email(text):\n",
        "    if len(text.strip()) < 10:\n",
        "        return '<div class=\"result-spam\">⚠️ Please enter at least 10 characters.</div>'\n",
        "\n",
        "    # Clean the input text\n",
        "    cleaned_text = clean_text(text) # Assuming clean_text function is available from previous cells\n",
        "\n",
        "    # Transform the cleaned text using the fitted TF-IDF vectorizer\n",
        "    text_tfidf = tfidf.transform([cleaned_text])\n",
        "\n",
        "    # Predict and get probabilities\n",
        "    pred = detector.predict(text_tfidf)[0]\n",
        "    prob = detector.predict_proba(text_tfidf)[0]\n",
        "\n",
        "\n",
        "    if pred == 1:\n",
        "        return f'''\n",
        "        <div class=\"result-spam\">\n",
        "            🚨 SPAM DETECTED<br>\n",
        "            Confidence: {prob[1]*100:.1f}%\n",
        "        </div>\n",
        "        '''\n",
        "    else:\n",
        "        return f'''\n",
        "        <div class=\"result-safe\">\n",
        "            ✅ Safe Email<br>\n",
        "            Confidence: {prob[0]*100:.1f}%\n",
        "        </div>\n",
        "        '''\n",
        "\n",
        "header_html = f'''\n",
        "<div class=\"spam-detector\">\n",
        "    <div class=\"title\">Email Spam Detector</div>\n",
        "    <div class=\"stats\">\n",
        "        Accuracy: {best_accuracy*100:.1f}% | Model: {best_name}\n",
        "    </div>\n",
        "</div>\n",
        "'''\n",
        "\n",
        "display(HTML(header_html))\n",
        "\n",
        "print(\"To analyze an email, use: analyze_email('your email text here')\")\n",
        "print(\"Example:\")\n",
        "sample_text = \"Congratulations! You've won $1000000! Click here now to claim your prize!\"\n",
        "result = analyze_email(sample_text)\n",
        "display(HTML(result))"
      ],
      "metadata": {
        "colab": {
          "base_uri": "https://localhost:8080/",
          "height": 268
        },
        "id": "19qXS3_v0f57",
        "outputId": "1df45bc6-2118-4920-d8b9-d12a0d47cd31"
      },
      "execution_count": 9,
      "outputs": [
        {
          "output_type": "display_data",
          "data": {
            "text/plain": [
              "<IPython.core.display.HTML object>"
            ],
            "text/html": [
              "\n",
              "<style>\n",
              ".spam-detector {\n",
              "    background: #2c3e50;\n",
              "    border-radius: 12px;\n",
              "    padding: 20px;\n",
              "    color: white;\n",
              "    font-family: Arial, sans-serif;\n",
              "    margin: 15px 0;\n",
              "    box-shadow: 0 4px 12px rgba(0,0,0,0.3);\n",
              "}\n",
              "\n",
              ".title {\n",
              "    text-align: center;\n",
              "    font-size: 24px;\n",
              "    font-weight: bold;\n",
              "    margin-bottom: 5px;\n",
              "}\n",
              "\n",
              ".stats {\n",
              "    text-align: center;\n",
              "    font-size: 14px;\n",
              "    color: #bdc3c7;\n",
              "    margin-bottom: 15px;\n",
              "}\n",
              "\n",
              ".result-spam {\n",
              "    background: #e74c3c;\n",
              "    padding: 12px;\n",
              "    border-radius: 8px;\n",
              "    text-align: center;\n",
              "    font-weight: bold;\n",
              "    margin: 10px 0;\n",
              "}\n",
              "\n",
              ".result-safe {\n",
              "    background: #27ae60;\n",
              "    padding: 12px;\n",
              "    border-radius: 8px;\n",
              "    text-align: center;\n",
              "    font-weight: bold;\n",
              "    margin: 10px 0;\n",
              "}\n",
              "\n",
              ".input-area {\n",
              "    margin: 10px 0;\n",
              "}\n",
              "</style>\n"
            ]
          },
          "metadata": {}
        },
        {
          "output_type": "display_data",
          "data": {
            "text/plain": [
              "<IPython.core.display.HTML object>"
            ],
            "text/html": [
              "\n",
              "<div class=\"spam-detector\">\n",
              "    <div class=\"title\">Email Spam Detector</div>\n",
              "    <div class=\"stats\">\n",
              "        Accuracy: 99.1% | Model: SVM\n",
              "    </div>\n",
              "</div>\n"
            ]
          },
          "metadata": {}
        },
        {
          "output_type": "stream",
          "name": "stdout",
          "text": [
            "To analyze an email, use: analyze_email('your email text here')\n",
            "Example:\n"
          ]
        },
        {
          "output_type": "display_data",
          "data": {
            "text/plain": [
              "<IPython.core.display.HTML object>"
            ],
            "text/html": [
              "\n",
              "        <div class=\"result-spam\">\n",
              "            🚨 SPAM DETECTED<br>\n",
              "            Confidence: 99.2%\n",
              "        </div>\n",
              "        "
            ]
          },
          "metadata": {}
        }
      ]
    },
    {
      "cell_type": "markdown",
      "source": [
        "# 📧 Email Spam Detection Project – Technical Report\n",
        "\n",
        "This project implements a **machine learning-based email spam detection system** using the **Spam Email Dataset** from Kaggle. The solution follows a complete **data science workflow** from preprocessing to deployment-ready model packaging.\n",
        "\n",
        "---\n",
        "\n",
        "## **1. Data Acquisition & Preparation**\n",
        "- Dataset: `jackksoncsie/spam-email-dataset` (loaded via `kagglehub`)\n",
        "- Size: ~5,000+ emails with `text` and `label` columns\n",
        "- Labels normalized to binary:\n",
        "  - `spam` → 1  \n",
        "  - `ham` → 0\n",
        "- **Cleaning pipeline**:\n",
        "  - Lowercasing text\n",
        "  - Removing URLs, digits, and punctuation\n",
        "  - Collapsing whitespace\n",
        "  - Removing very short (<5 char) entries\n",
        "\n",
        "---\n",
        "\n",
        "## **2. Feature Engineering**\n",
        "- **TF-IDF Vectorization**:\n",
        "  - `max_features=8000`\n",
        "  - English stopwords removal\n",
        "  - N-grams: `(1,3)`  \n",
        "  - `min_df=3`, `max_df=0.9`, sublinear term frequency scaling\n",
        "\n",
        "---\n",
        "\n",
        "## **3. Model Training & Evaluation**\n",
        "Four algorithms trained and benchmarked:\n",
        "1. **Multinomial Naive Bayes** (alpha=0.1)  \n",
        "2. **Logistic Regression** (max_iter=1000, C=2)\n",
        "3. **Random Forest Classifier** (n=200, max_depth=25)\n",
        "4. **SVM (RBF kernel)** (C=1.5, probability=True)\n",
        "\n",
        "- Split: 80% train / 20% test (stratified)\n",
        "- Metric: Accuracy + Classification Report + Confusion Matrix\n",
        "- **Best model** selected automatically based on accuracy.\n",
        "\n",
        "---\n",
        "\n",
        "## **4. Results**\n",
        "- **Winner:** `{{best_name}}` with **{{best_accuracy*100:.1f}}%** accuracy\n",
        "- Model performance visualized via:\n",
        "  - Accuracy comparison bar chart\n",
        "  - Dataset distribution pie chart\n",
        "  - Confusion matrix heatmap\n",
        "  - Feature importance (if available)\n",
        "\n",
        "---\n",
        "\n",
        "## **5. Deployment**\n",
        "- Final **Pipeline** = `TF-IDF` + `Best Classifier`\n",
        "- Saved as: `email_spam_detector.pkl` (via `joblib`)\n",
        "- Integrated into **interactive Colab GUI** using:\n",
        "  - `ipywidgets` for real-time email input\n",
        "  - Custom HTML/CSS styling for professional UI\n",
        "  - Live spam probability & recommendation output\n",
        "\n",
        "---\n",
        "\n",
        "## **6. Key Takeaways**\n",
        "- Demonstrates the **effectiveness of traditional ML models** for spam detection\n",
        "- Achieves **high accuracy** on real-world email datasets\n",
        "- Fully **modular** pipeline → easy to retrain on updated datasets\n",
        "- Deployable both as a **web app** or integrated into **email systems** for automated filtering\n",
        "\n",
        "---\n",
        "**Author:** Mujtaba Ahmed | FAST-NUCES Lahore  \n",
        "**Tools:** Python, Scikit-learn, Pandas, Matplotlib, Seaborn, ipywidgets  \n",
        "**Dataset:** Kaggle – Spam Email Dataset\n"
      ],
      "metadata": {
        "id": "ecTNpWzd4Z54"
      }
    },
    {
      "cell_type": "code",
      "metadata": {
        "colab": {
          "base_uri": "https://localhost:8080/"
        },
        "id": "fdd41714",
        "outputId": "84499ea2-630b-4baa-9343-a56a089b0520"
      },
      "source": [
        "# Save the best model\n",
        "joblib.dump(best_model, 'email_spam_detector.pkl')\n",
        "\n",
        "print(f\"Best model '{best_name}' saved successfully as 'email_spam_detector.pkl'\")"
      ],
      "execution_count": 5,
      "outputs": [
        {
          "output_type": "stream",
          "name": "stdout",
          "text": [
            "Best model 'SVM' saved successfully as 'email_spam_detector.pkl'\n"
          ]
        }
      ]
    }
  ]
}